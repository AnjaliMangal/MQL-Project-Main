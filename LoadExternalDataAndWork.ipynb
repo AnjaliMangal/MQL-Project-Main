{
 "cells": [
  {
   "cell_type": "code",
   "execution_count": 15,
   "metadata": {
    "collapsed": true
   },
   "outputs": [],
   "source": [
    "### import all the dependencies \n",
    "import requests\n",
    "import csv\n",
    "import json\n",
    "import pandas as pd\n",
    "# import requests, json\n",
    "import re"
   ]
  },
  {
   "cell_type": "code",
   "execution_count": 16,
   "metadata": {},
   "outputs": [
    {
     "name": "stdout",
     "output_type": "stream",
     "text": [
      "Shape of exports read from CSV : (53906, 16)\n"
     ]
    }
   ],
   "source": [
    "### Main Program starts here  - Now we will read data form CSV\n",
    "\n",
    "external_customers_df = pd.read_csv(\"../data/external_customers.csv\", low_memory=False)\n",
    "print('Shape of exports read from CSV : {}'.format(external_customers_df.shape))"
   ]
  },
  {
   "cell_type": "code",
   "execution_count": 17,
   "metadata": {},
   "outputs": [
    {
     "data": {
      "text/plain": [
       "Index(['Unnamed: 0', 'Domain', 'UserEmail', 'serviceName', 'UserId', 'IndvId',\n",
       "       'SessionId', 'PageUrl', 'PageRefererUrl', 'PageBrowser', 'PageDevice',\n",
       "       'PageDuration', 'PageActiveDuration', 'PageLatLong', 'EventStart',\n",
       "       'EventType'],\n",
       "      dtype='object')"
      ]
     },
     "execution_count": 17,
     "metadata": {},
     "output_type": "execute_result"
    }
   ],
   "source": [
    "##List the names of columns \n",
    "external_customers_df.columns\n"
   ]
  },
  {
   "cell_type": "code",
   "execution_count": 18,
   "metadata": {},
   "outputs": [
    {
     "data": {
      "text/plain": [
       "16"
      ]
     },
     "execution_count": 18,
     "metadata": {},
     "output_type": "execute_result"
    }
   ],
   "source": [
    "len(external_customers_df.columns)"
   ]
  },
  {
   "cell_type": "code",
   "execution_count": 19,
   "metadata": {},
   "outputs": [
    {
     "name": "stdout",
     "output_type": "stream",
     "text": [
      "Number of columns before :16\n",
      "Number of columns after :15\n"
     ]
    }
   ],
   "source": [
    "## Data Cleaning and filtering \n",
    "#dropping an Column not needed \n",
    "print('Number of columns before :{}'.format(len(external_customers_df.columns)))\n",
    "external_customers_df.drop('Unnamed: 0', axis=1, inplace=True)\n",
    "print('Number of columns after :{}'.format(len(external_customers_df.columns)))"
   ]
  },
  {
   "cell_type": "code",
   "execution_count": 20,
   "metadata": {},
   "outputs": [
    {
     "data": {
      "text/html": [
       "<div>\n",
       "<style scoped>\n",
       "    .dataframe tbody tr th:only-of-type {\n",
       "        vertical-align: middle;\n",
       "    }\n",
       "\n",
       "    .dataframe tbody tr th {\n",
       "        vertical-align: top;\n",
       "    }\n",
       "\n",
       "    .dataframe thead th {\n",
       "        text-align: right;\n",
       "    }\n",
       "</style>\n",
       "<table border=\"1\" class=\"dataframe\">\n",
       "  <thead>\n",
       "    <tr style=\"text-align: right;\">\n",
       "      <th></th>\n",
       "      <th>Domain</th>\n",
       "      <th>UserEmail</th>\n",
       "      <th>serviceName</th>\n",
       "      <th>UserId</th>\n",
       "      <th>IndvId</th>\n",
       "      <th>SessionId</th>\n",
       "      <th>PageUrl</th>\n",
       "      <th>PageRefererUrl</th>\n",
       "      <th>PageBrowser</th>\n",
       "      <th>PageDevice</th>\n",
       "      <th>PageDuration</th>\n",
       "      <th>PageActiveDuration</th>\n",
       "      <th>PageLatLong</th>\n",
       "      <th>EventStart</th>\n",
       "      <th>EventType</th>\n",
       "    </tr>\n",
       "  </thead>\n",
       "  <tbody>\n",
       "    <tr>\n",
       "      <th>0</th>\n",
       "      <td>Company1.com</td>\n",
       "      <td>chad.tew@Company1.com</td>\n",
       "      <td>Data Logging</td>\n",
       "      <td>5650932471693312</td>\n",
       "      <td>5650932471693312</td>\n",
       "      <td>5629499534213120</td>\n",
       "      <td>https://www.cloud.dataguru.com/li/</td>\n",
       "      <td>https://console.cloud.dataguru.com/bin/gateway...</td>\n",
       "      <td>Chrome</td>\n",
       "      <td>Desktop</td>\n",
       "      <td>20030</td>\n",
       "      <td>3459</td>\n",
       "      <td>33.3335,-86.9591</td>\n",
       "      <td>2018-09-08T23:10:55.257Z</td>\n",
       "      <td>navigate</td>\n",
       "    </tr>\n",
       "    <tr>\n",
       "      <th>1</th>\n",
       "      <td>Company1.com</td>\n",
       "      <td>chad.tew@Company1.com</td>\n",
       "      <td>Data Logging</td>\n",
       "      <td>5650932471693312</td>\n",
       "      <td>5650932471693312</td>\n",
       "      <td>5629499534213120</td>\n",
       "      <td>https://www.cloud.dataguru.com/li/</td>\n",
       "      <td>https://console.cloud.dataguru.com/bin/gateway...</td>\n",
       "      <td>Chrome</td>\n",
       "      <td>Desktop</td>\n",
       "      <td>20030</td>\n",
       "      <td>3459</td>\n",
       "      <td>33.3335,-86.9591</td>\n",
       "      <td>2018-09-08T23:10:56.231Z</td>\n",
       "      <td>load</td>\n",
       "    </tr>\n",
       "    <tr>\n",
       "      <th>2</th>\n",
       "      <td>Company1.com</td>\n",
       "      <td>chad.tew@Company1.com</td>\n",
       "      <td>Data Logging</td>\n",
       "      <td>5650932471693312</td>\n",
       "      <td>5650932471693312</td>\n",
       "      <td>5629499534213120</td>\n",
       "      <td>https://www.cloud.dataguru.com/li/</td>\n",
       "      <td>https://console.cloud.dataguru.com/bin/gateway...</td>\n",
       "      <td>Chrome</td>\n",
       "      <td>Desktop</td>\n",
       "      <td>20030</td>\n",
       "      <td>3459</td>\n",
       "      <td>33.3335,-86.9591</td>\n",
       "      <td>2018-09-08T23:11:15.045Z</td>\n",
       "      <td>click</td>\n",
       "    </tr>\n",
       "    <tr>\n",
       "      <th>3</th>\n",
       "      <td>Company2.com</td>\n",
       "      <td>mike.hutt@Company2.com</td>\n",
       "      <td>SDK</td>\n",
       "      <td>5746562451898368</td>\n",
       "      <td>5767773206609920</td>\n",
       "      <td>5629499534213120</td>\n",
       "      <td>https://www.cloud.dataguru.com/catalog/#/library</td>\n",
       "      <td>https://console.cloud.dataguru.com/bin/gateway...</td>\n",
       "      <td>Chrome</td>\n",
       "      <td>Desktop</td>\n",
       "      <td>2038981</td>\n",
       "      <td>249088</td>\n",
       "      <td>48.8628,2.3292</td>\n",
       "      <td>2018-09-10T09:33:03.950Z</td>\n",
       "      <td>navigate</td>\n",
       "    </tr>\n",
       "    <tr>\n",
       "      <th>4</th>\n",
       "      <td>Company2.com</td>\n",
       "      <td>mike.hutt@Company2.com</td>\n",
       "      <td>SDK</td>\n",
       "      <td>5746562451898368</td>\n",
       "      <td>5767773206609920</td>\n",
       "      <td>5629499534213120</td>\n",
       "      <td>https://www.cloud.dataguru.com/catalog/#/library</td>\n",
       "      <td>https://console.cloud.dataguru.com/bin/gateway...</td>\n",
       "      <td>Chrome</td>\n",
       "      <td>Desktop</td>\n",
       "      <td>2038981</td>\n",
       "      <td>249088</td>\n",
       "      <td>48.8628,2.3292</td>\n",
       "      <td>2018-09-10T09:33:04.026Z</td>\n",
       "      <td>load</td>\n",
       "    </tr>\n",
       "  </tbody>\n",
       "</table>\n",
       "</div>"
      ],
      "text/plain": [
       "         Domain               UserEmail   serviceName            UserId  \\\n",
       "0  Company1.com   chad.tew@Company1.com  Data Logging  5650932471693312   \n",
       "1  Company1.com   chad.tew@Company1.com  Data Logging  5650932471693312   \n",
       "2  Company1.com   chad.tew@Company1.com  Data Logging  5650932471693312   \n",
       "3  Company2.com  mike.hutt@Company2.com           SDK  5746562451898368   \n",
       "4  Company2.com  mike.hutt@Company2.com           SDK  5746562451898368   \n",
       "\n",
       "             IndvId         SessionId  \\\n",
       "0  5650932471693312  5629499534213120   \n",
       "1  5650932471693312  5629499534213120   \n",
       "2  5650932471693312  5629499534213120   \n",
       "3  5767773206609920  5629499534213120   \n",
       "4  5767773206609920  5629499534213120   \n",
       "\n",
       "                                            PageUrl  \\\n",
       "0                https://www.cloud.dataguru.com/li/   \n",
       "1                https://www.cloud.dataguru.com/li/   \n",
       "2                https://www.cloud.dataguru.com/li/   \n",
       "3  https://www.cloud.dataguru.com/catalog/#/library   \n",
       "4  https://www.cloud.dataguru.com/catalog/#/library   \n",
       "\n",
       "                                      PageRefererUrl PageBrowser PageDevice  \\\n",
       "0  https://console.cloud.dataguru.com/bin/gateway...      Chrome    Desktop   \n",
       "1  https://console.cloud.dataguru.com/bin/gateway...      Chrome    Desktop   \n",
       "2  https://console.cloud.dataguru.com/bin/gateway...      Chrome    Desktop   \n",
       "3  https://console.cloud.dataguru.com/bin/gateway...      Chrome    Desktop   \n",
       "4  https://console.cloud.dataguru.com/bin/gateway...      Chrome    Desktop   \n",
       "\n",
       "   PageDuration  PageActiveDuration       PageLatLong  \\\n",
       "0         20030                3459  33.3335,-86.9591   \n",
       "1         20030                3459  33.3335,-86.9591   \n",
       "2         20030                3459  33.3335,-86.9591   \n",
       "3       2038981              249088    48.8628,2.3292   \n",
       "4       2038981              249088    48.8628,2.3292   \n",
       "\n",
       "                 EventStart EventType  \n",
       "0  2018-09-08T23:10:55.257Z  navigate  \n",
       "1  2018-09-08T23:10:56.231Z      load  \n",
       "2  2018-09-08T23:11:15.045Z     click  \n",
       "3  2018-09-10T09:33:03.950Z  navigate  \n",
       "4  2018-09-10T09:33:04.026Z      load  "
      ]
     },
     "execution_count": 20,
     "metadata": {},
     "output_type": "execute_result"
    }
   ],
   "source": [
    "external_customers_df.head()   \n"
   ]
  },
  {
   "cell_type": "code",
   "execution_count": null,
   "metadata": {
    "collapsed": true
   },
   "outputs": [],
   "source": []
  }
 ],
 "metadata": {
  "kernelspec": {
   "display_name": "Python 3",
   "language": "python",
   "name": "python3"
  },
  "language_info": {
   "codemirror_mode": {
    "name": "ipython",
    "version": 3
   },
   "file_extension": ".py",
   "mimetype": "text/x-python",
   "name": "python",
   "nbconvert_exporter": "python",
   "pygments_lexer": "ipython3",
   "version": "3.6.3"
  }
 },
 "nbformat": 4,
 "nbformat_minor": 2
}

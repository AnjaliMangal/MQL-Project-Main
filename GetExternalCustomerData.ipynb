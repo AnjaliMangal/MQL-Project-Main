{
 "cells": [
  {
   "cell_type": "code",
   "execution_count": null,
   "metadata": {
    "collapsed": true
   },
   "outputs": [],
   "source": [
    "\n",
    "### import all the dependencies \n",
    "import requests\n",
    "import csv\n",
    "import json\n",
    "import pandas as pd\n",
    "import requests, json\n",
    "import re\n",
    "import configparser"
   ]
  },
  {
   "cell_type": "code",
   "execution_count": null,
   "metadata": {},
   "outputs": [],
   "source": [
    "## Define all variables \n",
    "configFile = \"config.cfg\"\n",
    "config = configparser.ConfigParser()\n",
    "config.read(configFile)\n"
   ]
  },
  {
   "cell_type": "code",
   "execution_count": null,
   "metadata": {},
   "outputs": [],
   "source": [
    "### Main Program starts here  - Now we will read data form CSV\n",
    "\n",
    "customers_df = pd.read_csv(\"../data/Maindata.csv\", low_memory=False)\n",
    "print('Shape of exports read from CSV : {}'.format(customers_df.shape))"
   ]
  },
  {
   "cell_type": "code",
   "execution_count": null,
   "metadata": {},
   "outputs": [],
   "source": [
    "##List the names of columns \n",
    "customers_df.columns\n"
   ]
  },
  {
   "cell_type": "code",
   "execution_count": null,
   "metadata": {},
   "outputs": [],
   "source": [
    "len(customers_df.columns)"
   ]
  },
  {
   "cell_type": "code",
   "execution_count": null,
   "metadata": {},
   "outputs": [],
   "source": [
    "## Data Cleaning and filtering \n",
    "#dropping an Column not needed \n",
    "print('number of columns  before :{}'.format(len(customers_df.columns)))\n",
    "customers_df.drop('Unnamed: 0', axis=1, inplace=True)\n",
    "print('number of columns  After :{}'.format(len(customers_df.columns)))"
   ]
  },
  {
   "cell_type": "code",
   "execution_count": null,
   "metadata": {},
   "outputs": [],
   "source": [
    "## Need to Add a column as Domain \n",
    "print('Adding domain column')\n",
    "\n",
    "customers_df['Domain'] = customers_df['UserEmail'].str.split(pat=\"@\", expand=True)[1]\n",
    "print('Shape of exports read from CSV : {}'.format(customers_df.shape))"
   ]
  },
  {
   "cell_type": "code",
   "execution_count": null,
   "metadata": {},
   "outputs": [],
   "source": [
    "\n",
    "# drop rows that doesn't have an email\n",
    "customers_df = customers_df.dropna(subset=['UserEmail'])\n",
    "\n",
    "# remove all the rows that use internal email or not valid email\n",
    "#Read the info on emails fron config file \n",
    "dropemails= config.get('Emails', 'dropEmailList')\n",
    "dropemailsList = dropemails.split(\",\")\n",
    "external_customers_df = customers_df[~ customers_df.Domain.isin(dropemailsList)]\n",
    "\n",
    "print('Shape of dataframe after dropping internal users : {}'.format(external_customers_df.shape))\n",
    "\n"
   ]
  },
  {
   "cell_type": "code",
   "execution_count": null,
   "metadata": {},
   "outputs": [],
   "source": [
    "#quick preview of data\n",
    "external_customers_df.head()\n"
   ]
  },
  {
   "cell_type": "code",
   "execution_count": null,
   "metadata": {},
   "outputs": [],
   "source": [
    "## Dropping unwanted columns \n",
    "external_customers_df = external_customers_df[['Domain','UserAppKey','user_serviceName_str','UserId','IndvId','SessionId',\n",
    "                                       'PageUrl','PageRefererUrl','PageBrowser','PageDevice','PageDuration','PageActiveDuration',\n",
    "                                        'PageLatLong',\n",
    "                                       'EventStart','EventType']]\n",
    "print('Shape of dataframe after dropping extra columns: {}'.format(external_customers_df.shape))                                    "
   ]
  },
  {
   "cell_type": "code",
   "execution_count": null,
   "metadata": {},
   "outputs": [],
   "source": [
    "##Renaming columns\n",
    "external_customers_df.rename(columns={'UserAppKey':'UserEmail','user_serviceName_str':'serviceName'},inplace = True)\n",
    "external_customers_df.columns"
   ]
  },
  {
   "cell_type": "code",
   "execution_count": null,
   "metadata": {},
   "outputs": [],
   "source": [
    "## Printing list of unique services we have collected data for \n",
    "list(external_customers_df.serviceName.unique())"
   ]
  },
  {
   "cell_type": "code",
   "execution_count": null,
   "metadata": {},
   "outputs": [],
   "source": [
    "## Dropping rows with extra services we dont care they were part of some POC \n",
    "##servciesName = list(customers_data.user_serviceName_str.unique())\n",
    "print(\"Size of data before dropping servcies {}\".format(external_customers_df.shape))\n",
    "service_picked= ['LOG_INTELLIGENCE','CloudAssembly','SDK']\n",
    "external_customers_df = external_customers_df[external_customers_df.serviceName.isin(service_picked)]\n",
    "print(\"Size of data after  dropping servcies {} \".format(external_customers_df.shape))"
   ]
  },
  {
   "cell_type": "code",
   "execution_count": null,
   "metadata": {},
   "outputs": [],
   "source": [
    "## REPLACING SERVICES NAMES to make them more meaning full\n",
    "external_customers_df.replace(\"LOG_INTELLIGENCE\",\"Data Logging\",inplace =True)\n",
    "external_customers_df.replace('CloudAssembly',\"Data Package\",inplace =True)\n",
    "print(\"Size of data {}\".format(external_customers_df.shape))\n",
    "list(external_customers_df.serviceName.unique())"
   ]
  },
  {
   "cell_type": "code",
   "execution_count": null,
   "metadata": {},
   "outputs": [],
   "source": [
    "#Masking Company Names \n",
    "domainList  = list(external_customers_df.Domain.unique())\n",
    "counter = 1\n",
    "for domain in domainList  :\n",
    "    newDomain = \"Company\" + str(counter)+\".com\"\n",
    "    print(newDomain)\n",
    "    external_customers_df.replace(domain,newDomain,inplace =True,regex=True)\n",
    "    counter=counter +1  \n",
    "\n",
    "print(\"Masking done\")\n",
    "external_customers_df.head(20)"
   ]
  },
  {
   "cell_type": "code",
   "execution_count": null,
   "metadata": {},
   "outputs": [],
   "source": [
    "#Masking Some Sensitive URL\n",
    "external_customers_df.replace(\"/www.mgmt.cloud.vmware.com/\",\"/www.cloud.dataguru.com/\",inplace =True,regex=True)\n",
    "external_customers_df.replace(\"vmware\",\"dataguru\",inplace =True,regex=True)\n",
    "external_customers_df.replace(\"csp\",\"bin\",inplace =True,regex=True)\n",
    "external_customers_df.replace(\"deployment\",\"dataType\",inplace =True,regex=True)\n",
    "external_customers_df.replace(\"automation-ui\",\"dataType-UI\",inplace =True,regex=True)\n",
    "external_customers_df.replace(\"provisioning\",\"data-provision\",inplace =True,regex=True)\n"
   ]
  },
  {
   "cell_type": "code",
   "execution_count": null,
   "metadata": {},
   "outputs": [],
   "source": [
    "### Writing  masked /filtered and clean data to CSV ,from here always read the local file names external_customers.csv\n",
    "external_customers_df.to_csv(\"../data/external_customers.csv\")\n",
    "print(\"external Customer data  Successfully written to external_customers.csv \")"
   ]
  },
  {
   "cell_type": "code",
   "execution_count": null,
   "metadata": {},
   "outputs": [],
   "source": [
    "## Now We need to answer active users or company by unique  session ID count \n",
    "##This is sample code anyway we will do the processing in another file \n",
    "df_groupby_session = external_customers_df.groupby([\"Domain\",'UserEmail'])['UserId'].nunique()\n",
    "df_groupby_session\n"
   ]
  },
  {
   "cell_type": "code",
   "execution_count": null,
   "metadata": {},
   "outputs": [],
   "source": [
    "## Now We need to answer most used service \n",
    "\n",
    "df_groupby_service = external_customers_df.groupby([\"serviceName\"])[\"PageUrl\"].count()\n",
    "df_groupby_service"
   ]
  },
  {
   "cell_type": "code",
   "execution_count": null,
   "metadata": {
    "collapsed": true
   },
   "outputs": [],
   "source": []
  }
 ],
 "metadata": {
  "kernelspec": {
   "display_name": "Python 3",
   "language": "python",
   "name": "python3"
  },
  "language_info": {
   "codemirror_mode": {
    "name": "ipython",
    "version": 3
   },
   "file_extension": ".py",
   "mimetype": "text/x-python",
   "name": "python",
   "nbconvert_exporter": "python",
   "pygments_lexer": "ipython3",
   "version": "3.6.3"
  }
 },
 "nbformat": 4,
 "nbformat_minor": 2
}

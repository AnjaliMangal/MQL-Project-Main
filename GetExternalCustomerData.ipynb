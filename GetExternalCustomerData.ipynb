{
 "cells": [
  {
   "cell_type": "code",
   "execution_count": 1,
   "metadata": {},
   "outputs": [],
   "source": [
    "\n",
    "### import all the dependencies \n",
    "import requests\n",
    "import csv\n",
    "import json\n",
    "import pandas as pd\n",
    "import requests, json\n",
    "import re\n",
    "import configparser\n",
    "import warnings\n",
    "warnings.filterwarnings('ignore')"
   ]
  },
  {
   "cell_type": "code",
   "execution_count": 2,
   "metadata": {},
   "outputs": [
    {
     "data": {
      "text/plain": [
       "['config.cfg']"
      ]
     },
     "execution_count": 2,
     "metadata": {},
     "output_type": "execute_result"
    }
   ],
   "source": [
    "## Define all variables \n",
    "configFile = \"config.cfg\"\n",
    "config = configparser.ConfigParser()\n",
    "config.read(configFile)\n"
   ]
  },
  {
   "cell_type": "code",
   "execution_count": 3,
   "metadata": {},
   "outputs": [
    {
     "name": "stdout",
     "output_type": "stream",
     "text": [
      "Starting to read from csv , data is huge so it may take few seconds\n",
      "Shape of exports read from CSV : (711157, 35)\n"
     ]
    }
   ],
   "source": [
    "### Main Program starts here  - Now we will read data form CSV\n",
    "print(\"Starting to read from csv , data is huge so it may take few seconds\")\n",
    "main_customers_df = pd.read_csv(\"../data/Main_customers.csv\", low_memory=False)\n",
    "print('Shape of exports read from CSV : {}'.format(main_customers_df.shape))"
   ]
  },
  {
   "cell_type": "code",
   "execution_count": 4,
   "metadata": {},
   "outputs": [
    {
     "data": {
      "text/plain": [
       "Index(['Unnamed: 0', 'EventModDead', 'EventModError', 'EventModFrustrated',\n",
       "       'EventStart', 'EventTargetSelectorTok', 'EventTargetText', 'EventType',\n",
       "       'IndvId', 'PageActiveDuration', 'PageAgent', 'PageBrowser',\n",
       "       'PageDevice', 'PageDuration', 'PageId', 'PageIp', 'PageLatLong',\n",
       "       'PageNumErrors', 'PageNumInfos', 'PageNumWarnings',\n",
       "       'PageOperatingSystem', 'PageRefererUrl', 'PageUrl', 'SessionId',\n",
       "       'UserAppKey', 'UserDisplayName', 'UserEmail', 'UserId',\n",
       "       'user_anonymousId_str', 'user_firstName_str', 'user_lastName_str',\n",
       "       'user_serviceName_str', 'user_userHash_str', 'user_userId_str',\n",
       "       'user_username_str'],\n",
       "      dtype='object')"
      ]
     },
     "execution_count": 4,
     "metadata": {},
     "output_type": "execute_result"
    }
   ],
   "source": [
    "##List the names of columns \n",
    "customers_df=main_customers_df\n",
    "customers_df.columns\n"
   ]
  },
  {
   "cell_type": "code",
   "execution_count": 5,
   "metadata": {},
   "outputs": [
    {
     "name": "stdout",
     "output_type": "stream",
     "text": [
      "number of columns  before :35\n",
      "number of columns  After :34\n"
     ]
    }
   ],
   "source": [
    "## Data Cleaning and filtering \n",
    "#dropping an Column not needed \n",
    "print('number of columns  before :{}'.format(len(customers_df.columns)))\n",
    "customers_df.drop('Unnamed: 0', axis=1, inplace=True)\n",
    "print('number of columns  After :{}'.format(len(customers_df.columns)))"
   ]
  },
  {
   "cell_type": "code",
   "execution_count": 11,
   "metadata": {},
   "outputs": [
    {
     "name": "stdout",
     "output_type": "stream",
     "text": [
      "Adding domain column\n",
      "Shape of exports read from CSV : (711157, 35)\n"
     ]
    }
   ],
   "source": [
    "## Need to Add a column as Domain \n",
    "print('Adding domain column')\n",
    "\n",
    "customers_df['Domain'] = customers_df['UserEmail'].str.split(pat=\"@\", expand=True)[1]\n",
    "print('Shape of exports read from CSV : {}'.format(customers_df.shape))"
   ]
  },
  {
   "cell_type": "code",
   "execution_count": 12,
   "metadata": {},
   "outputs": [
    {
     "name": "stdout",
     "output_type": "stream",
     "text": [
      "Shape of dataframe after dropping internal users : (78291, 35)\n"
     ]
    }
   ],
   "source": [
    "\n",
    "# drop rows that doesn't have an email\n",
    "#customers_df = customers_df.dropna(subset=['UserEmail'])\n",
    "\n",
    "# remove all the rows that use internal email or not valid external customers  emails\n",
    "#Read the info on emails fron config file \n",
    "dropemails= config.get('Emails', 'dropEmailList')\n",
    "dropemailsList = dropemails.split(\",\")\n",
    "external_customers_df = customers_df[~ customers_df.Domain.isin(dropemailsList)]\n",
    "\n",
    "print('Shape of dataframe after dropping internal users : {}'.format(external_customers_df.shape))\n",
    "\n"
   ]
  },
  {
   "cell_type": "code",
   "execution_count": 13,
   "metadata": {},
   "outputs": [],
   "source": [
    "#quick preview of data\n",
    "external_customers_df.head()\n",
    "# some email address have both lower and upper case and counted as double\n",
    "external_customers_df['Domain'] = external_customers_df['Domain'].str.lower()\n",
    "\n"
   ]
  },
  {
   "cell_type": "code",
   "execution_count": 14,
   "metadata": {},
   "outputs": [
    {
     "name": "stdout",
     "output_type": "stream",
     "text": [
      "Shape of dataframe after dropping extra columns: (78291, 15)\n"
     ]
    }
   ],
   "source": [
    "## Dropping unwanted columns \n",
    "external_customers_df = external_customers_df[['Domain','UserAppKey','user_serviceName_str','UserId','IndvId','SessionId',\n",
    "                                       'PageUrl','PageRefererUrl','PageBrowser','PageDevice','PageDuration','PageActiveDuration',\n",
    "                                        'PageLatLong',\n",
    "                                       'EventStart','EventType']]\n",
    "print('Shape of dataframe after dropping extra columns: {}'.format(external_customers_df.shape))                                    "
   ]
  },
  {
   "cell_type": "code",
   "execution_count": 15,
   "metadata": {},
   "outputs": [
    {
     "data": {
      "text/plain": [
       "Index(['Domain', 'UserEmail', 'serviceName', 'UserId', 'IndvId', 'SessionId',\n",
       "       'PageUrl', 'PageRefererUrl', 'PageBrowser', 'PageDevice',\n",
       "       'PageDuration', 'PageActiveDuration', 'PageLatLong', 'EventStart',\n",
       "       'EventType'],\n",
       "      dtype='object')"
      ]
     },
     "execution_count": 15,
     "metadata": {},
     "output_type": "execute_result"
    }
   ],
   "source": [
    "##Renaming columns\n",
    "external_customers_df.rename(columns={'UserAppKey':'UserEmail','user_serviceName_str':'serviceName'},inplace = True)\n",
    "external_customers_df.columns"
   ]
  },
  {
   "cell_type": "code",
   "execution_count": 16,
   "metadata": {},
   "outputs": [
    {
     "data": {
      "text/plain": [
       "['Data Logging', 'SDK', 'Data Package']"
      ]
     },
     "execution_count": 16,
     "metadata": {},
     "output_type": "execute_result"
    }
   ],
   "source": [
    "## Printing list of unique services we have collected data for \n",
    "list(external_customers_df.serviceName.unique())"
   ]
  },
  {
   "cell_type": "code",
   "execution_count": null,
   "metadata": {},
   "outputs": [
    {
     "name": "stdout",
     "output_type": "stream",
     "text": [
      "Company1.com\n",
      "Company2.com\n",
      "Company3.com\n",
      "Company4.com\n",
      "Company5.com\n",
      "Company6.com\n",
      "Company7.com\n",
      "Company8.com\n",
      "Company9.com\n",
      "Company10.com\n",
      "Company11.com\n",
      "Company12.com\n",
      "Company13.com\n",
      "Company14.com\n",
      "Company15.com\n",
      "Company16.com\n"
     ]
    }
   ],
   "source": [
    "#Masking Company Names \n",
    "domainList  = list(external_customers_df.Domain.unique())\n",
    "counter = 1\n",
    "for domain in domainList  :\n",
    "    newDomain = \"Company\" + str(counter)+\".com\"\n",
    "    print(newDomain)\n",
    "    external_customers_df.replace(domain,newDomain,inplace =True,regex=True)\n",
    "    counter=counter +1  \n",
    "\n",
    "print(\"Masking done\")\n"
   ]
  },
  {
   "cell_type": "code",
   "execution_count": 17,
   "metadata": {},
   "outputs": [
    {
     "name": "stdout",
     "output_type": "stream",
     "text": [
      "external Customer data  Successfully written to external_customers.csv \n"
     ]
    }
   ],
   "source": [
    "### Writing  masked /filtered and clean data to CSV ,from here always read the local file names external_customers.csv\n",
    "external_customers_df.to_csv(\"../data/external_customers.csv\")\n",
    "print(\"external Customer data  Successfully written to external_customers.csv \")"
   ]
  },
  {
   "cell_type": "code",
   "execution_count": null,
   "metadata": {
    "collapsed": true
   },
   "outputs": [],
   "source": []
  }
 ],
 "metadata": {
  "kernelspec": {
   "display_name": "Python 3",
   "language": "python",
   "name": "python3"
  },
  "language_info": {
   "codemirror_mode": {
    "name": "ipython",
    "version": 3
   },
   "file_extension": ".py",
   "mimetype": "text/x-python",
   "name": "python",
   "nbconvert_exporter": "python",
   "pygments_lexer": "ipython3",
   "version": "3.6.6"
  }
 },
 "nbformat": 4,
 "nbformat_minor": 2
}

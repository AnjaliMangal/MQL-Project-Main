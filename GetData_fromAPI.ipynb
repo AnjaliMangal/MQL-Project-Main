{
 "cells": [
  {
   "cell_type": "code",
   "execution_count": null,
   "metadata": {
    "collapsed": true
   },
   "outputs": [],
   "source": [
    "\n",
    "### import all the dependencies \n",
    "import requests\n",
    "import csv\n",
    "import json\n",
    "import pandas as pd\n",
    "import requests, json\n",
    "import re\n",
    "import configparser\n",
    "import time \n",
    "import logging\n"
   ]
  },
  {
   "cell_type": "code",
   "execution_count": null,
   "metadata": {
    "collapsed": true
   },
   "outputs": [],
   "source": [
    "## Define all variables \n",
    "configFile = \"config.cfg\"\n",
    "config = configparser.ConfigParser()\n",
    "config.read(configFile)\n",
    "\n",
    "TOKEN= config.get('FullStory', 'Token')\n",
    "\n",
    "\n",
    "HEADERS = {'Authorization': 'Basic {}'.format(TOKEN)}\n",
    "START_DATE1 = 1536364800 # 2018-09-07 17:00:00\n",
    "START_DATE2 = 1538161320 # 2018-09-27 17:02:00\n",
    "LIST_REQUEST_URL = 'https://export.fullstory.com/api/v1/export/list?start={}'\n",
    "GET_REQUEST_URL = 'https://export.fullstory.com/api/v1/export/get?id={}'\n",
    "LOG_FILE = 'fs_api_run.log'"
   ]
  },
  {
   "cell_type": "code",
   "execution_count": null,
   "metadata": {
    "collapsed": true
   },
   "outputs": [],
   "source": [
    "##Setting up logger \n",
    "logger = logging.getLogger(__name__)\n",
    "logger.setLevel(logging.INFO)\n",
    "\n",
    "# create a file handler\n",
    "handler = logging.FileHandler(LOG_FILE)\n",
    "handler.setLevel(logging.INFO)\n",
    "\n",
    "# create a logging format\n",
    "formatter = logging.Formatter('%(asctime)s - %(name)s - %(levelname)s - %(message)s')\n",
    "handler.setFormatter(formatter)\n",
    "\n",
    "# add the handlers to the logger\n",
    "logger.addHandler(handler)\n"
   ]
  },
  {
   "cell_type": "code",
   "execution_count": null,
   "metadata": {
    "collapsed": true
   },
   "outputs": [],
   "source": [
    "##Function to get the list of export bundles after given date \n",
    "def get_exportData(start_date):\n",
    "    '''the function obtain List of data export\n",
    "    from the target date onwards.'''\n",
    "    exports_data = []\n",
    "   # HEADERS = {'Authorization': 'Basic {}'.format(TOKEN)}\n",
    "    with requests.session() as session:\n",
    "        session.headers.update(HEADERS)\n",
    "        # Getting the list of data exports from fullstory\n",
    "        logger.info('Getting the exports list from fullstory')\n",
    "        exports_list_response = session.get(LIST_REQUEST_URL.format(start_date))\n",
    "        status_code = exports_list_response.status_code\n",
    "   \n",
    "        # Check status code\n",
    "        if status_code == 200:\n",
    "            print('List API call has been successful.')\n",
    "            logger.info('List API call has been successful.')\n",
    "            export_list_json = exports_list_response.json()\n",
    "            # print(output)\n",
    "        else:\n",
    "            print('List API call unsuccessful with status code:\\\n",
    "             {}'.format(status_code))\n",
    "            logger.exception('List API call unsuccessful with status code:\\\n",
    "             {}'.format(status_code))\n",
    "        #print(export_list_json)\n",
    "\n",
    "        exports = export_list_json[\"exports\"] \n",
    "        print(exports)\n",
    "        # Downloading the exports from fullstory\n",
    "        print(\"Starting downlaod of the Fullstory data exports\")\n",
    "        logger.info(\"Starting downlaod of the Fullstory data exports\")\n",
    "        counter = 1\n",
    "        for export in exports:\n",
    "            print(\"Starting download for the bundle {}\".format(counter))\n",
    "            logger.info(\"Starting download for the bundle {}\".format(counter))\n",
    "            export_data = session.get(GET_REQUEST_URL.format(str(export['Id']))).json()\n",
    "            counter = counter + 1\n",
    "            print(counter)\n",
    "            exports_data = exports_data + export_data\n",
    "        print(\"Downloaded {} dumps with {} total records\".format(counter, len(exports_data)))\n",
    "        logger.info(\"Downloaded {} dumps with {} total records\".format(counter, len(exports_data)))\n",
    "\n",
    "\n",
    "\n",
    "    return exports_data\n",
    "\n",
    "    "
   ]
  },
  {
   "cell_type": "code",
   "execution_count": null,
   "metadata": {},
   "outputs": [],
   "source": [
    "logger.info (\"The Main run start to download all export bundles .\")\n",
    "exports1  = get_exportData(START_DATE1)\n",
    "exports2 = get_exportData(START_DATE2)\n"
   ]
  },
  {
   "cell_type": "code",
   "execution_count": null,
   "metadata": {},
   "outputs": [],
   "source": [
    "# Loading the exports data to Pandas DataFrames for further processing \n",
    "exports_df1 = pd.DataFrame(exports1)\n",
    "print('Shape of first export dataframe: {}'.format(exports_df1.shape))\n",
    "logger.info('Shape of first export dataframe: {}'.format(exports_df1.shape))\n",
    "\n",
    "exports_df2 = pd.DataFrame(exports2)\n",
    "print('Shape of second export dataframe: {}'.format(exports_df2.shape))\n",
    "logger.info('Shape of second export dataframe: {}'.format(exports_df2.shape))"
   ]
  },
  {
   "cell_type": "code",
   "execution_count": null,
   "metadata": {},
   "outputs": [],
   "source": [
    "##Merging 2 dataframes \n",
    "combined_exports_df = pd.concat([exports_df1,exports_df2], join='inner')\n",
    "print('Shape of Combined exports df : {}'.format(combined_exports_df.shape))"
   ]
  },
  {
   "cell_type": "code",
   "execution_count": null,
   "metadata": {},
   "outputs": [],
   "source": [
    "combined_exports_df.columns"
   ]
  },
  {
   "cell_type": "code",
   "execution_count": null,
   "metadata": {},
   "outputs": [],
   "source": [
    "## Writing the dataframe to CSV file to avoid API call before every program run \n",
    "filepath = \"/Users/amangal/BerkeleyClass2018/berkeley-projects/Project-1/data/Combined_data.csv\"\n",
    "logger.info(\"Start writing the export_df to localCSV\")\n",
    "combined_exports_df.to_csv(filepath)\n",
    "print(\"Data Successfully loaded to local CSV\")\n",
    "logger.info(\"Data Successfully loaded to local CSV\")"
   ]
  },
  {
   "cell_type": "code",
   "execution_count": null,
   "metadata": {
    "collapsed": true
   },
   "outputs": [],
   "source": []
  }
 ],
 "metadata": {
  "kernelspec": {
   "display_name": "Python 3",
   "language": "python",
   "name": "python3"
  },
  "language_info": {
   "codemirror_mode": {
    "name": "ipython",
    "version": 3
   },
   "file_extension": ".py",
   "mimetype": "text/x-python",
   "name": "python",
   "nbconvert_exporter": "python",
   "pygments_lexer": "ipython3",
   "version": "3.6.3"
  }
 },
 "nbformat": 4,
 "nbformat_minor": 2
}

{
 "cells": [
  {
   "cell_type": "code",
   "execution_count": null,
   "metadata": {
    "collapsed": true
   },
   "outputs": [],
   "source": [
    "\n",
    "### import all the dependencies \n",
    "import requests\n",
    "import csv\n",
    "import json\n",
    "import pandas as pd\n",
    "import requests, json\n",
    "import re\n",
    "import configparser"
   ]
  },
  {
   "cell_type": "code",
   "execution_count": null,
   "metadata": {},
   "outputs": [],
   "source": [
    "## Define all variables \n",
    "configFile = \"config.cfg\"\n",
    "config = configparser.ConfigParser()\n",
    "config.read(configFile)\n",
    "\n",
    "TOKEN= config.get('FullStory', 'Token')\n",
    "\n",
    "\n",
    "HEADERS = {'Authorization': 'Basic {}'.format(TOKEN)}\n",
    "START_DATE = 1536364800 # 2018-09-07 17:00:00\n",
    "LIST_REQUEST_URL = 'https://export.fullstory.com/api/v1/export/list?start={}'\n",
    "GET_REQUEST_URL = 'https://export.fullstory.com/api/v1/export/get?id={}'"
   ]
  },
  {
   "cell_type": "code",
   "execution_count": null,
   "metadata": {},
   "outputs": [],
   "source": [
    "## Calling FullStory APIS to get the data of all website traffic for last 3 weeks starting form 09/08 - 09/30\n",
    "with requests.session() as session:\n",
    "    session.headers.update(HEADERS)\n",
    "    # Getting the list of data exports from fullstory\n",
    "    print('Getting the exports list from fullstory')\n",
    "    exports_list_response = session.get(LIST_REQUEST_URL.format(START_DATE)).json()\n",
    "\n",
    "    exports = exports_list_response[\"exports\"]\n",
    "    exports_data = []\n",
    "    \n",
    "\n",
    "    # Downloading the exports from fullstory\n",
    "    print(\"Starting downlaod of the Fullstory data exports\")\n",
    "    counter = 1\n",
    "    for export in exports:\n",
    "        print(\"Starting download for the bundle {}\".format(counter))\n",
    "        export_data = session.get(GET_REQUEST_URL.format(str(export['Id']))).json()\n",
    "        exports_data = exports_data + export_data\n",
    "        counter = counter + 1\n",
    "    print(\"Downloaded {} dumps with {} total records\".format(counter, len(exports_data)))\n"
   ]
  },
  {
   "cell_type": "code",
   "execution_count": null,
   "metadata": {},
   "outputs": [],
   "source": [
    "# Loading the exports data to Pandas DataFrame for further processing \n",
    "exports_df = pd.DataFrame(exports_data)\n",
    "print('Shape of exports dataframe: {}'.format(exports_df.shape))"
   ]
  },
  {
   "cell_type": "code",
   "execution_count": null,
   "metadata": {},
   "outputs": [],
   "source": [
    "## Writing the dataframe to CSV file to avoid API call before every program run \n",
    "exports_df.to_csv(\"../data/Maindata.csv\")\n",
    "print(\"Data Successfully loaded to local CSV\")"
   ]
  },
  {
   "cell_type": "code",
   "execution_count": null,
   "metadata": {
    "collapsed": true
   },
   "outputs": [],
   "source": []
  }
 ],
 "metadata": {
  "kernelspec": {
   "display_name": "Python 3",
   "language": "python",
   "name": "python3"
  },
  "language_info": {
   "codemirror_mode": {
    "name": "ipython",
    "version": 3
   },
   "file_extension": ".py",
   "mimetype": "text/x-python",
   "name": "python",
   "nbconvert_exporter": "python",
   "pygments_lexer": "ipython3",
   "version": "3.6.3"
  }
 },
 "nbformat": 4,
 "nbformat_minor": 2
}
